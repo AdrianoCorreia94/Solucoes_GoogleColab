{
  "nbformat": 4,
  "nbformat_minor": 0,
  "metadata": {
    "colab": {
      "provenance": [],
      "authorship_tag": "ABX9TyNrxzNsUS9xb5/U9Iu3m/5g",
      "include_colab_link": true
    },
    "kernelspec": {
      "name": "python3",
      "display_name": "Python 3"
    },
    "language_info": {
      "name": "python"
    }
  },
  "cells": [
    {
      "cell_type": "markdown",
      "metadata": {
        "id": "view-in-github",
        "colab_type": "text"
      },
      "source": [
        "<a href=\"https://colab.research.google.com/github/AdrianoCorreia94/csv/blob/master/SPRINT07.ipynb\" target=\"_parent\"><img src=\"https://colab.research.google.com/assets/colab-badge.svg\" alt=\"Open In Colab\"/></a>"
      ]
    },
    {
      "cell_type": "markdown",
      "source": [
        "# ETL ARQUIVO NOMES.CSV\n",
        "\n",
        "\n"
      ],
      "metadata": {
        "id": "EUClGZyke7Qv"
      }
    },
    {
      "cell_type": "code",
      "source": [
        "# opcao para importar arquivo nomes.csv\n",
        "\n",
        "# via pandas\n",
        "#import pandas as pd\n",
        "\n",
        "# criar df pandas\n",
        "#df = pd.read_csv('https://raw.githubusercontent.com/AdrianoCorreia94/csv/master/nomes.csv')\n",
        "\n",
        "# transformar df pandas em df spark\n",
        "#df_spark = spark.createDataFrame(df)\n",
        "#df_spark.show()\n",
        "\n",
        "# via terminal\n",
        "#!wget https://raw.githubusercontent.com/AdrianoCorreia94/csv/master/nomes.csv\n"
      ],
      "metadata": {
        "id": "QEF9SbMPhut9"
      },
      "execution_count": null,
      "outputs": []
    },
    {
      "cell_type": "code",
      "execution_count": null,
      "metadata": {
        "colab": {
          "base_uri": "https://localhost:8080/"
        },
        "id": "WGMZoWPmQwa2",
        "outputId": "d7e76409-8703-41b4-ada7-4199455697bb"
      },
      "outputs": [
        {
          "output_type": "stream",
          "name": "stdout",
          "text": [
            "Requirement already satisfied: pyspark in /usr/local/lib/python3.10/dist-packages (3.4.1)\n",
            "Requirement already satisfied: py4j in /usr/local/lib/python3.10/dist-packages (0.10.9.7)\n"
          ]
        }
      ],
      "source": [
        "!pip install pyspark py4j\n",
        "from pyspark.sql import SparkSession\n",
        "from pyspark.sql.types import *\n",
        "from pyspark.sql.functions import *\n",
        "spark = SparkSession.builder.appName(\"teste\").getOrCreate()\n"
      ]
    },
    {
      "cell_type": "code",
      "source": [
        "## 1 Ler o arquivo nomes.csv no S3 (lembre-se de realizar upload do arquivo antes).\n",
        "dataset = spark.read.csv(\"/content/nomes.csv\", header=True, sep=\",\", inferSchema=True)"
      ],
      "metadata": {
        "id": "G8vbUVqIhaUI"
      },
      "execution_count": 187,
      "outputs": []
    },
    {
      "cell_type": "code",
      "source": [
        "## 2 Imprima o schema do dataframe gerado no passo anterior.\n",
        "dataset.schema"
      ],
      "metadata": {
        "colab": {
          "base_uri": "https://localhost:8080/"
        },
        "id": "WJm_7NLikERw",
        "outputId": "b646b694-9ce6-4289-e0d7-34f3e65b9d87"
      },
      "execution_count": null,
      "outputs": [
        {
          "output_type": "execute_result",
          "data": {
            "text/plain": [
              "StructType([StructField('nome', StringType(), True), StructField('sexo', StringType(), True), StructField('total', IntegerType(), True), StructField('ano', IntegerType(), True)])"
            ]
          },
          "metadata": {},
          "execution_count": 161
        }
      ]
    },
    {
      "cell_type": "code",
      "source": [
        "## 3  Escrever o código necessário para alterar a caixa dos valores da coluna nome para MAIÚSCULO.\n",
        "nome_maiusculo = dataset.withColumn(\"nome\", upper(col(\"nome\")))\n",
        "nome_maiusculo.show()"
      ],
      "metadata": {
        "id": "LowHfdpNkhGq",
        "colab": {
          "base_uri": "https://localhost:8080/"
        },
        "outputId": "7982bdc2-422c-44e3-941d-aa7c9ace14bd"
      },
      "execution_count": null,
      "outputs": [
        {
          "output_type": "stream",
          "name": "stdout",
          "text": [
            "+---------+----+-----+----+\n",
            "|     nome|sexo|total| ano|\n",
            "+---------+----+-----+----+\n",
            "| JENNIFER|   F|54336|1983|\n",
            "|  JESSICA|   F|45278|1983|\n",
            "|   AMANDA|   F|33752|1983|\n",
            "|   ASHLEY|   F|33292|1983|\n",
            "|    SARAH|   F|27228|1983|\n",
            "|  MELISSA|   F|23472|1983|\n",
            "|   NICOLE|   F|22392|1983|\n",
            "|STEPHANIE|   F|22323|1983|\n",
            "|  HEATHER|   F|20749|1983|\n",
            "|ELIZABETH|   F|19838|1983|\n",
            "|  CRYSTAL|   F|17904|1983|\n",
            "|      AMY|   F|17095|1983|\n",
            "| MICHELLE|   F|16828|1983|\n",
            "|  TIFFANY|   F|15960|1983|\n",
            "| KIMBERLY|   F|15374|1983|\n",
            "|CHRISTINA|   F|15359|1983|\n",
            "|    AMBER|   F|14886|1983|\n",
            "|     ERIN|   F|14835|1983|\n",
            "|  REBECCA|   F|14711|1983|\n",
            "|   RACHEL|   F|14588|1983|\n",
            "+---------+----+-----+----+\n",
            "only showing top 20 rows\n",
            "\n"
          ]
        }
      ]
    },
    {
      "cell_type": "code",
      "source": [
        "## 4 Imprimir a contagem de linhas presentes no dataframe.\n",
        "print('contagem de linhas')\n",
        "dataset.count()"
      ],
      "metadata": {
        "colab": {
          "base_uri": "https://localhost:8080/"
        },
        "id": "Vlua2PPwkrYp",
        "outputId": "59a0e192-bd1a-4cba-99de-e0432e91bd0c"
      },
      "execution_count": null,
      "outputs": [
        {
          "output_type": "stream",
          "name": "stdout",
          "text": [
            "contagem de linhas\n"
          ]
        },
        {
          "output_type": "execute_result",
          "data": {
            "text/plain": [
              "1825433"
            ]
          },
          "metadata": {},
          "execution_count": 55
        }
      ]
    },
    {
      "cell_type": "code",
      "source": [
        "## 5 Imprimir a contagem de nomes, agrupando os dados do dataframe pelas colunas ano e sexo.\n",
        "contagem_nomes = dataset.groupBy(\"ano\", \"sexo\").agg(count(\"*\").alias(\"contagem\"))\n",
        "contagem_nomes.show()"
      ],
      "metadata": {
        "id": "ZLMj8A0Mk_P1",
        "colab": {
          "base_uri": "https://localhost:8080/"
        },
        "outputId": "0e3ac692-3494-41b0-aab4-c23d28d63529"
      },
      "execution_count": null,
      "outputs": [
        {
          "output_type": "stream",
          "name": "stdout",
          "text": [
            "+----+----+--------+\n",
            "| ano|sexo|contagem|\n",
            "+----+----+--------+\n",
            "|2004|   F|   18819|\n",
            "|1882|   F|    1028|\n",
            "|1906|   M|    1413|\n",
            "|1908|   M|    1584|\n",
            "|1893|   M|    1179|\n",
            "|1885|   F|    1197|\n",
            "|2006|   F|   20043|\n",
            "|1992|   F|   15605|\n",
            "|1889|   F|    1479|\n",
            "|1880|   M|    1058|\n",
            "|1992|   M|    9811|\n",
            "|1896|   F|    1825|\n",
            "|1986|   M|    7823|\n",
            "|1905|   F|    2235|\n",
            "|2001|   M|   12295|\n",
            "|2008|   M|   14606|\n",
            "|2011|   F|   19540|\n",
            "|1892|   M|    1260|\n",
            "|1907|   F|    2399|\n",
            "|1907|   M|    1549|\n",
            "+----+----+--------+\n",
            "only showing top 20 rows\n",
            "\n"
          ]
        }
      ]
    },
    {
      "cell_type": "code",
      "source": [
        "# 6 Ordene os dados de modo que o ano mais recente apareça como primeiro registro do dataframe.\n",
        "ordenado = dataset.orderBy(col(\"ano\").desc())\n",
        "ordenado.show()"
      ],
      "metadata": {
        "id": "x-9ZDTZclh7R",
        "colab": {
          "base_uri": "https://localhost:8080/"
        },
        "outputId": "9b28c7f2-425e-4f79-e950-7591ea811f30"
      },
      "execution_count": null,
      "outputs": [
        {
          "output_type": "stream",
          "name": "stdout",
          "text": [
            "+---------+----+-----+----+\n",
            "|     nome|sexo|total| ano|\n",
            "+---------+----+-----+----+\n",
            "|     Emma|   F|20799|2014|\n",
            "|    Grace|   F| 7554|2014|\n",
            "|   Olivia|   F|19674|2014|\n",
            "|   Sophia|   F|18490|2014|\n",
            "| Isabella|   F|16950|2014|\n",
            "|      Ava|   F|15586|2014|\n",
            "|      Mia|   F|13442|2014|\n",
            "|    Emily|   F|12562|2014|\n",
            "|  Abigail|   F|11985|2014|\n",
            "|  Madison|   F|10247|2014|\n",
            "|Charlotte|   F|10048|2014|\n",
            "|   Harper|   F| 9564|2014|\n",
            "|    Sofia|   F| 9542|2014|\n",
            "|    Avery|   F| 9517|2014|\n",
            "|Elizabeth|   F| 9492|2014|\n",
            "|   Amelia|   F| 8727|2014|\n",
            "|   Evelyn|   F| 8692|2014|\n",
            "|     Ella|   F| 8489|2014|\n",
            "|    Chloe|   F| 8469|2014|\n",
            "| Victoria|   F| 7955|2014|\n",
            "+---------+----+-----+----+\n",
            "only showing top 20 rows\n",
            "\n"
          ]
        }
      ]
    },
    {
      "cell_type": "code",
      "source": [
        "# 7 Apresentar qual foi o nome feminino com mais registros e em que ano ocorreu.\n",
        "\n",
        "# filtrar por nome feminino\n",
        "nomes_femininos = dataset.filter(col(\"sexo\") == \"F\")\n",
        "\n",
        "# ordenar por total\n",
        "feminino_mais_registrado = nomes_femininos.orderBy(col(\"total\").desc())\n",
        "\n",
        "# apresentar o maior\n",
        "feminino_mais_registrado.first()\n"
      ],
      "metadata": {
        "id": "fA7NBp1QlnMh",
        "colab": {
          "base_uri": "https://localhost:8080/"
        },
        "outputId": "d550f531-d6d1-4803-dc26-4ecbaf36bbfc"
      },
      "execution_count": null,
      "outputs": [
        {
          "output_type": "execute_result",
          "data": {
            "text/plain": [
              "Row(nome='Linda', sexo='F', total=99680, ano=1947)"
            ]
          },
          "metadata": {},
          "execution_count": 164
        }
      ]
    },
    {
      "cell_type": "code",
      "source": [
        "# 8 Apresentar qual foi o nome masculino com mais registros e em que ano ocorreu.\n",
        "\n",
        "# filtrar por sexo\n",
        "nomes_masculinos = dataset.filter(col(\"sexo\") == \"M\")\n",
        "\n",
        "# ordenar descrescente por total\n",
        "masculino_mais_registrado = nomes_masculinos.orderBy(col(\"total\").desc())\n",
        "\n",
        "# apresentar o maior\n",
        "masculino_mais_registrado.first()"
      ],
      "metadata": {
        "colab": {
          "base_uri": "https://localhost:8080/"
        },
        "id": "ATb5rcUnEGDO",
        "outputId": "b7961445-8228-452e-8c06-1e6fcba96e7e"
      },
      "execution_count": null,
      "outputs": [
        {
          "output_type": "execute_result",
          "data": {
            "text/plain": [
              "Row(nome='James', sexo='M', total=94755, ano=1947)"
            ]
          },
          "metadata": {},
          "execution_count": 165
        }
      ]
    },
    {
      "cell_type": "code",
      "source": [
        "# 9 Apresentar o total de registros (masculinos e femininos) para cada ano presente no dataframe.\n",
        "# Considere apenas as primeiras 10 linhas, ordenadas pelo ano, de forma crescente.\n",
        "\n",
        "# agrupar por ano e sexo e incluir o total\n",
        "total_registros = dataset.groupBy(\"ano\", \"sexo\").agg(functions.count(\"*\").alias(\"total\"))\n",
        "\n",
        "# ordenar por anoo de forma crescente\n",
        "total_ordenado = total_registros.orderBy(col(\"ano\")).limit(10)\n",
        "\n",
        "# apresentar\n",
        "total_ordenado.show()"
      ],
      "metadata": {
        "id": "444743vFltmL",
        "colab": {
          "base_uri": "https://localhost:8080/"
        },
        "outputId": "a68291a8-2139-4cbf-b510-8f1443df5fad"
      },
      "execution_count": null,
      "outputs": [
        {
          "output_type": "stream",
          "name": "stdout",
          "text": [
            "+----+----+-----+\n",
            "| ano|sexo|total|\n",
            "+----+----+-----+\n",
            "|1880|   F|  942|\n",
            "|1880|   M| 1058|\n",
            "|1881|   M|  997|\n",
            "|1881|   F|  938|\n",
            "|1882|   F| 1028|\n",
            "|1882|   M| 1099|\n",
            "|1883|   M| 1030|\n",
            "|1883|   F| 1054|\n",
            "|1884|   F| 1172|\n",
            "|1884|   M| 1125|\n",
            "+----+----+-----+\n",
            "\n"
          ]
        }
      ]
    },
    {
      "cell_type": "code",
      "source": [
        "# 10 Escrever o conteúdo do dataframe com os valores de nome em maiúsculo no S3.\n",
        "\n",
        "# 10.01 criar particao\n",
        "particao = nome_maiusculo.write.partitionBy('sexo','ano').saveAsTable('particao')"
      ],
      "metadata": {
        "id": "P5RXbQhYlypZ"
      },
      "execution_count": null,
      "outputs": []
    },
    {
      "cell_type": "code",
      "source": [
        "# 10.02 testar particao\n",
        "spark.sql(\"select * from particao\").show()"
      ],
      "metadata": {
        "id": "_DBepvQPQoIW"
      },
      "execution_count": null,
      "outputs": []
    },
    {
      "cell_type": "code",
      "source": [
        "# 10.03 criar as credenciais aws de forma externa em um arquivo json\n",
        "# por opcao nao sera testado este codigo devido a seguranca das credenciais aws\n",
        "\n",
        "\n",
        "# importar json\n",
        "import json\n",
        "\n",
        "\n",
        "# Ler as configurações do arquivo JSON\n",
        "with open(\"config.json\", \"r\") as config_file:\n",
        "    config_data = json.load(config_file)\n",
        "\n",
        "# Acessando as configurações de login e senha aws pelo json\n",
        "login = config_data.get(\"aws_access_key_id\")\n",
        "pwd = config_data.get(\"aws_secret_access_key\")\n",
        "\n",
        "# testar a leitura das configs\n",
        "print(login, pwd)\n"
      ],
      "metadata": {
        "colab": {
          "base_uri": "https://localhost:8080/"
        },
        "id": "v8BvY0Y2RzXm",
        "outputId": "7d3021f6-e179-41fb-a759-f7071897b542"
      },
      "execution_count": null,
      "outputs": [
        {
          "output_type": "stream",
          "name": "stdout",
          "text": [
            "login de acesso senha de acesso\n"
          ]
        }
      ]
    },
    {
      "cell_type": "code",
      "source": [
        "# 10.04 Escrever o conteúdo do dataframe com os valores de nome em maiúsculo no S3.\n",
        "particao.write.mode('overwrite').json('s3://adrianoguedin/lab-glue/frequencia_registro_nomes_eua/')"
      ],
      "metadata": {
        "id": "hxmCQWk7VMSY"
      },
      "execution_count": null,
      "outputs": []
    },
    {
      "cell_type": "code",
      "source": [
        "# Atenção aos requisitos:\n",
        "# A gravação deve ocorrer no subdiretório frequencia_registro_nomes_eua do path s3://<BUCKET>/lab-glue/\n",
        "# O formato deve ser JSON\n",
        "# O particionamento deverá ser realizado pelas colunas sexo e ano (nesta ordem)"
      ],
      "metadata": {
        "id": "O6vge8eal3BW"
      },
      "execution_count": null,
      "outputs": []
    },
    {
      "cell_type": "code",
      "source": [],
      "metadata": {
        "id": "qh_n5oahf1ti"
      },
      "execution_count": null,
      "outputs": []
    }
  ]
}